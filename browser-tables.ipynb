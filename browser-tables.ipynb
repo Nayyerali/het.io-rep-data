{
 "cells": [
  {
   "cell_type": "markdown",
   "metadata": {},
   "source": [
    "# Create Project Rephetio Prediction Browser Tables\n",
    "\n",
    "Tables are JSON formatted for import into DataTables."
   ]
  },
  {
   "cell_type": "code",
   "execution_count": 1,
   "metadata": {
    "collapsed": true
   },
   "outputs": [],
   "source": [
    "import os\n",
    "\n",
    "import pandas\n",
    "import sklearn.metrics\n",
    "import json\n",
    "import requests"
   ]
  },
  {
   "cell_type": "code",
   "execution_count": 2,
   "metadata": {
    "collapsed": false
   },
   "outputs": [],
   "source": [
    "base_url = 'https://github.com/dhimmel/learn/raw/e5e7459532944cafcf542ef6ddfe9184548224d9/'\n",
    "compound_df = pandas.read_table(base_url + 'summary/compounds.tsv')\n",
    "disease_df = pandas.read_table(base_url + 'summary/diseases.tsv')\n",
    "prob_df = pandas.read_table(base_url + 'prediction/predictions/probabilities.tsv')"
   ]
  },
  {
   "cell_type": "code",
   "execution_count": 3,
   "metadata": {
    "collapsed": false
   },
   "outputs": [
    {
     "data": {
      "text/html": [
       "<div>\n",
       "<table border=\"1\" class=\"dataframe\">\n",
       "  <thead>\n",
       "    <tr style=\"text-align: right;\">\n",
       "      <th></th>\n",
       "      <th>disease_id</th>\n",
       "      <th>disease_name</th>\n",
       "      <th>treats</th>\n",
       "      <th>palliates</th>\n",
       "      <th>total_edges</th>\n",
       "      <th>synonyms</th>\n",
       "    </tr>\n",
       "  </thead>\n",
       "  <tbody>\n",
       "    <tr>\n",
       "      <th>0</th>\n",
       "      <td>DOID:10652</td>\n",
       "      <td>Alzheimer's disease</td>\n",
       "      <td>4</td>\n",
       "      <td>5</td>\n",
       "      <td>772</td>\n",
       "      <td>AD | Alzheimer disease | Alzheimer disease, fa...</td>\n",
       "    </tr>\n",
       "    <tr>\n",
       "      <th>1</th>\n",
       "      <td>DOID:9206</td>\n",
       "      <td>Barrett's esophagus</td>\n",
       "      <td>2</td>\n",
       "      <td>0</td>\n",
       "      <td>541</td>\n",
       "      <td>(ulcerative esophagitis) or (Barrett's esophag...</td>\n",
       "    </tr>\n",
       "  </tbody>\n",
       "</table>\n",
       "</div>"
      ],
      "text/plain": [
       "   disease_id         disease_name  treats  palliates  total_edges  \\\n",
       "0  DOID:10652  Alzheimer's disease       4          5          772   \n",
       "1   DOID:9206  Barrett's esophagus       2          0          541   \n",
       "\n",
       "                                            synonyms  \n",
       "0  AD | Alzheimer disease | Alzheimer disease, fa...  \n",
       "1  (ulcerative esophagitis) or (Barrett's esophag...  "
      ]
     },
     "execution_count": 3,
     "metadata": {},
     "output_type": "execute_result"
    }
   ],
   "source": [
    "url = 'https://github.com/dhimmel/disease-ontology/raw/75050ea2d4f60e745d3f3578ae03560a2cc0e444/data/term-names.tsv'\n",
    "doid_synonym_df = pandas.read_table(url)\n",
    "disease_to_names = {disease_id: ' | '.join(sorted(set(df.name))) for disease_id, df in doid_synonym_df.groupby('doid')}\n",
    "disease_df['synonyms'] = disease_df.disease_id.map(disease_to_names)\n",
    "disease_df.head(2)"
   ]
  },
  {
   "cell_type": "code",
   "execution_count": 4,
   "metadata": {
    "collapsed": false
   },
   "outputs": [
    {
     "data": {
      "text/html": [
       "<div>\n",
       "<table border=\"1\" class=\"dataframe\">\n",
       "  <thead>\n",
       "    <tr style=\"text-align: right;\">\n",
       "      <th></th>\n",
       "      <th>compound_id</th>\n",
       "      <th>compound_name</th>\n",
       "      <th>treats</th>\n",
       "      <th>palliates</th>\n",
       "      <th>total_edges</th>\n",
       "      <th>synonyms</th>\n",
       "    </tr>\n",
       "  </thead>\n",
       "  <tbody>\n",
       "    <tr>\n",
       "      <th>0</th>\n",
       "      <td>DB01048</td>\n",
       "      <td>Abacavir</td>\n",
       "      <td>1</td>\n",
       "      <td>0</td>\n",
       "      <td>144</td>\n",
       "      <td>Abacavir | Abacavir Sulfate | Ziagen</td>\n",
       "    </tr>\n",
       "    <tr>\n",
       "      <th>1</th>\n",
       "      <td>DB05812</td>\n",
       "      <td>Abiraterone</td>\n",
       "      <td>1</td>\n",
       "      <td>0</td>\n",
       "      <td>81</td>\n",
       "      <td>Abiraterone | Zytiga</td>\n",
       "    </tr>\n",
       "  </tbody>\n",
       "</table>\n",
       "</div>"
      ],
      "text/plain": [
       "  compound_id compound_name  treats  palliates  total_edges  \\\n",
       "0     DB01048      Abacavir       1          0          144   \n",
       "1     DB05812   Abiraterone       1          0           81   \n",
       "\n",
       "                               synonyms  \n",
       "0  Abacavir | Abacavir Sulfate | Ziagen  \n",
       "1                  Abiraterone | Zytiga  "
      ]
     },
     "execution_count": 4,
     "metadata": {},
     "output_type": "execute_result"
    }
   ],
   "source": [
    "url = 'https://github.com/dhimmel/drugbank/raw/421a06305e9452deb72a3327a98bb4d07ac94a6c/data/aliases.json'\n",
    "compound_to_aliases = requests.get(url).json()\n",
    "compound_to_aliases = {k: ' | '.join(v) for k, v in compound_to_aliases.items()}\n",
    "compound_df['synonyms'] = compound_df.compound_id.map(compound_to_aliases)\n",
    "compound_df.head(2)"
   ]
  },
  {
   "cell_type": "code",
   "execution_count": 5,
   "metadata": {
    "collapsed": false
   },
   "outputs": [],
   "source": [
    "url = 'https://github.com/dhimmel/clintrials/raw/4d63098c79042b7048f546720e727bc94e232182/data/DrugBank-DO-slim-counts.tsv'\n",
    "clintrial_df = pandas.read_table(url)\n",
    "clintrial_df = clintrial_df[['compound_id', 'disease_id', 'n_trials']]\n",
    "prob_df = prob_df.drop('n_trials', axis='columns').merge(clintrial_df, how='left')\n",
    "prob_df.n_trials = prob_df.n_trials.fillna(0).astype(int)"
   ]
  },
  {
   "cell_type": "code",
   "execution_count": 6,
   "metadata": {
    "collapsed": false
   },
   "outputs": [
    {
     "data": {
      "text/html": [
       "<div>\n",
       "<table border=\"1\" class=\"dataframe\">\n",
       "  <thead>\n",
       "    <tr style=\"text-align: right;\">\n",
       "      <th></th>\n",
       "      <th>compound_id</th>\n",
       "      <th>compound_name</th>\n",
       "      <th>disease_id</th>\n",
       "      <th>disease_name</th>\n",
       "      <th>category</th>\n",
       "      <th>status</th>\n",
       "      <th>prior_prob</th>\n",
       "      <th>prediction</th>\n",
       "      <th>training_prediction</th>\n",
       "      <th>compound_percentile</th>\n",
       "      <th>disease_percentile</th>\n",
       "      <th>status_trials</th>\n",
       "      <th>status_drugcentral</th>\n",
       "      <th>n_trials</th>\n",
       "    </tr>\n",
       "  </thead>\n",
       "  <tbody>\n",
       "    <tr>\n",
       "      <th>0</th>\n",
       "      <td>DB01048</td>\n",
       "      <td>Abacavir</td>\n",
       "      <td>DOID:10652</td>\n",
       "      <td>Alzheimer's disease</td>\n",
       "      <td>NaN</td>\n",
       "      <td>0</td>\n",
       "      <td>0.004753</td>\n",
       "      <td>0.000930</td>\n",
       "      <td>0.001129</td>\n",
       "      <td>0.125000</td>\n",
       "      <td>0.154746</td>\n",
       "      <td>0.0</td>\n",
       "      <td>0.0</td>\n",
       "      <td>0</td>\n",
       "    </tr>\n",
       "    <tr>\n",
       "      <th>1</th>\n",
       "      <td>DB05812</td>\n",
       "      <td>Abiraterone</td>\n",
       "      <td>DOID:10652</td>\n",
       "      <td>Alzheimer's disease</td>\n",
       "      <td>NaN</td>\n",
       "      <td>0</td>\n",
       "      <td>0.004753</td>\n",
       "      <td>0.003795</td>\n",
       "      <td>0.004604</td>\n",
       "      <td>0.757353</td>\n",
       "      <td>0.842653</td>\n",
       "      <td>0.0</td>\n",
       "      <td>0.0</td>\n",
       "      <td>0</td>\n",
       "    </tr>\n",
       "  </tbody>\n",
       "</table>\n",
       "</div>"
      ],
      "text/plain": [
       "  compound_id compound_name  disease_id         disease_name category  status  \\\n",
       "0     DB01048      Abacavir  DOID:10652  Alzheimer's disease      NaN       0   \n",
       "1     DB05812   Abiraterone  DOID:10652  Alzheimer's disease      NaN       0   \n",
       "\n",
       "   prior_prob  prediction  training_prediction  compound_percentile  \\\n",
       "0    0.004753    0.000930             0.001129             0.125000   \n",
       "1    0.004753    0.003795             0.004604             0.757353   \n",
       "\n",
       "   disease_percentile  status_trials  status_drugcentral  n_trials  \n",
       "0            0.154746            0.0                 0.0         0  \n",
       "1            0.842653            0.0                 0.0         0  "
      ]
     },
     "execution_count": 6,
     "metadata": {},
     "output_type": "execute_result"
    }
   ],
   "source": [
    "prob_df.head(2)"
   ]
  },
  {
   "cell_type": "code",
   "execution_count": 7,
   "metadata": {
    "collapsed": false
   },
   "outputs": [],
   "source": [
    "def get_auroc(df):\n",
    "    try:\n",
    "        auroc = sklearn.metrics.roc_auc_score(y_true=df.status, y_score=df.prediction)\n",
    "    except ValueError:\n",
    "        auroc = None\n",
    "    series = pandas.Series()\n",
    "    series['auroc'] = auroc\n",
    "    return series\n",
    "    \n",
    "compound_df = compound_df.merge(\n",
    "    prob_df.groupby('compound_id').apply(get_auroc).reset_index()\n",
    ")\n",
    "disease_df = disease_df.merge(\n",
    "    prob_df.groupby('disease_id').apply(get_auroc).reset_index()\n",
    ")"
   ]
  },
  {
   "cell_type": "code",
   "execution_count": 8,
   "metadata": {
    "collapsed": false
   },
   "outputs": [],
   "source": [
    "def df_to_json(df, path, double_precision=6):\n",
    "    \"\"\"Write a pandas dataframe to a JSON text file formatted as datatables input.\"\"\"\n",
    "    dump_str = df.to_json(orient='split', double_precision=double_precision)\n",
    "    obj = json.loads(dump_str)\n",
    "    del obj['index']\n",
    "    with open(path, 'wt') as fp:\n",
    "        json.dump(obj, fp, sort_keys=True)"
   ]
  },
  {
   "cell_type": "code",
   "execution_count": 9,
   "metadata": {
    "collapsed": true
   },
   "outputs": [],
   "source": [
    "path = os.path.join('browser-tables', 'compounds.json')\n",
    "df_to_json(compound_df, path)\n",
    "\n",
    "path = os.path.join('browser-tables', 'diseases.json')\n",
    "df_to_json(disease_df, path)"
   ]
  },
  {
   "cell_type": "markdown",
   "metadata": {},
   "source": [
    "## Create probability datasets"
   ]
  },
  {
   "cell_type": "code",
   "execution_count": 10,
   "metadata": {
    "collapsed": false
   },
   "outputs": [],
   "source": [
    "prob_df = prob_df[[\n",
    "    'compound_name',\n",
    "    'disease_name',\n",
    "    'prediction',\n",
    "    'compound_percentile',\n",
    "    'disease_percentile',\n",
    "    'category',\n",
    "    'n_trials',\n",
    "    'compound_id',\n",
    "    'disease_id',\n",
    "]]"
   ]
  },
  {
   "cell_type": "code",
   "execution_count": 11,
   "metadata": {
    "collapsed": false
   },
   "outputs": [],
   "source": [
    "for compound_id, df in prob_df.groupby('compound_id'):\n",
    "    path = os.path.join('browser-tables', 'compound', '{}.json'.format(compound_id))\n",
    "    df = df.drop(['compound_id', 'compound_name'], axis = 'columns')\n",
    "    df['synonyms'] = df.disease_id.map(disease_to_names)\n",
    "    df_to_json(df, path)\n",
    "\n",
    "for disease_id, df in prob_df.groupby('disease_id'):\n",
    "    disease_id = disease_id.replace(':', '_')\n",
    "    path = os.path.join('browser-tables', 'disease', '{}.json'.format(disease_id))\n",
    "    df = df.drop(['disease_id', 'disease_name'], axis = 'columns')\n",
    "    df['synonyms'] = df.compound_id.map(compound_to_aliases)\n",
    "    df_to_json(df, path)"
   ]
  },
  {
   "cell_type": "code",
   "execution_count": 12,
   "metadata": {
    "collapsed": false
   },
   "outputs": [
    {
     "data": {
      "text/html": [
       "<div>\n",
       "<table border=\"1\" class=\"dataframe\">\n",
       "  <thead>\n",
       "    <tr style=\"text-align: right;\">\n",
       "      <th></th>\n",
       "      <th>compound_name</th>\n",
       "      <th>prediction</th>\n",
       "      <th>compound_percentile</th>\n",
       "      <th>disease_percentile</th>\n",
       "      <th>category</th>\n",
       "      <th>n_trials</th>\n",
       "      <th>compound_id</th>\n",
       "      <th>synonyms</th>\n",
       "    </tr>\n",
       "  </thead>\n",
       "  <tbody>\n",
       "    <tr>\n",
       "      <th>133806</th>\n",
       "      <td>Abacavir</td>\n",
       "      <td>0.000803</td>\n",
       "      <td>0.036765</td>\n",
       "      <td>0.052016</td>\n",
       "      <td>NaN</td>\n",
       "      <td>0</td>\n",
       "      <td>DB01048</td>\n",
       "      <td>Abacavir | Abacavir Sulfate | Ziagen</td>\n",
       "    </tr>\n",
       "    <tr>\n",
       "      <th>133807</th>\n",
       "      <td>Abiraterone</td>\n",
       "      <td>0.007132</td>\n",
       "      <td>0.948529</td>\n",
       "      <td>0.870611</td>\n",
       "      <td>NaN</td>\n",
       "      <td>0</td>\n",
       "      <td>DB05812</td>\n",
       "      <td>Abiraterone | Zytiga</td>\n",
       "    </tr>\n",
       "  </tbody>\n",
       "</table>\n",
       "</div>"
      ],
      "text/plain": [
       "       compound_name  prediction  compound_percentile  disease_percentile  \\\n",
       "133806      Abacavir    0.000803             0.036765            0.052016   \n",
       "133807   Abiraterone    0.007132             0.948529            0.870611   \n",
       "\n",
       "       category  n_trials compound_id                              synonyms  \n",
       "133806      NaN         0     DB01048  Abacavir | Abacavir Sulfate | Ziagen  \n",
       "133807      NaN         0     DB05812                  Abiraterone | Zytiga  "
      ]
     },
     "execution_count": 12,
     "metadata": {},
     "output_type": "execute_result"
    }
   ],
   "source": [
    "df.head(2)"
   ]
  },
  {
   "cell_type": "markdown",
   "metadata": {},
   "source": [
    "## Create info tables"
   ]
  },
  {
   "cell_type": "code",
   "execution_count": 13,
   "metadata": {
    "collapsed": false
   },
   "outputs": [],
   "source": [
    "info = {}\n",
    "\n",
    "for kind, df in ('compound', compound_df), ('disease', disease_df):\n",
    "    for row in df.itertuples():\n",
    "        row_id = getattr(row, kind + '_id')\n",
    "        row_id = row_id.replace(':', '_')\n",
    "        elem = [getattr(row, kind + '_name'), kind]\n",
    "        item = {\n",
    "            'name': getattr(row, kind + '_name'),\n",
    "            'type': kind,\n",
    "            'treats': int(row.treats),\n",
    "            'palliates': int(row.palliates),\n",
    "            'edges': int(row.total_edges),\n",
    "        }\n",
    "        if pandas.notnull(row.auroc):\n",
    "            item['auroc'] = round(row.auroc, 4)\n",
    "        info[row_id] = item"
   ]
  },
  {
   "cell_type": "code",
   "execution_count": 14,
   "metadata": {
    "collapsed": false
   },
   "outputs": [],
   "source": [
    "with open('./browser-tables/info.json', 'w') as fp:\n",
    "    json.dump(info, fp, indent=1, sort_keys=True, )"
   ]
  }
 ],
 "metadata": {
  "kernelspec": {
   "display_name": "Python 3",
   "language": "python",
   "name": "python3"
  },
  "language_info": {
   "codemirror_mode": {
    "name": "ipython",
    "version": 3
   },
   "file_extension": ".py",
   "mimetype": "text/x-python",
   "name": "python",
   "nbconvert_exporter": "python",
   "pygments_lexer": "ipython3",
   "version": "3.5.1"
  }
 },
 "nbformat": 4,
 "nbformat_minor": 0
}
